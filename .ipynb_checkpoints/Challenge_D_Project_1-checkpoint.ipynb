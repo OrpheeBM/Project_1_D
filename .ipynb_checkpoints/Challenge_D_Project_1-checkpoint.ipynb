{
 "cells": [
  {
   "cell_type": "raw",
   "metadata": {},
   "source": [
    "Challenge A: Password Validator\n",
    "Description\n",
    "Your job is to create a simple password validation function, as seen on many websites.\n",
    "\n",
    "The rules for a valid password are as follows:\n",
    "\n",
    "There needs to be at least 1 uppercase letter. There needs to be at least 1 lowercase letter. There needs to be at least 1 number. The password needs to be at least 8 characters long.\n",
    "\n",
    "You are permitted to use any methods to validate the password."
   ]
  },
  {
   "cell_type": "code",
   "execution_count": null,
   "metadata": {},
   "outputs": [],
   "source": [
    "# your code here"
   ]
  },
  {
   "cell_type": "raw",
   "metadata": {},
   "source": [
    "Challenge B: Credit Card Validator\n",
    "Description\n",
    "Your task is to write a program which reads credit card number prints the validation result ‘Valid’ or ‘Invalid’.\n",
    "\n",
    "A valid credit card has following features:\n",
    "\n",
    "It should start with 4, 5 or 6\n",
    "It should have exactly 16 digits\n",
    "It should only consist of digits (0-9)\n",
    "It may have digits in groups of 4 and separated by one hyphen \"-\"\n",
    "It should NOT use any other separator like ‘ ’,‘_’, etc.\n",
    "It should NOT have 4 or more consecutive repeated digits\n",
    "Valid Credit Card Numbers:\n",
    "\n",
    "4263525778615786\n",
    "5535535535559555\n",
    "6344-2389-7542-9163\n",
    "Invalid Credit Card Numbers:\n",
    "\n",
    "42536258796157867\n",
    "66266666626662666\n",
    "5122-2368-7954 -3214\n",
    "44244x4424442444\n",
    "0525362587961578"
   ]
  },
  {
   "cell_type": "code",
   "execution_count": null,
   "metadata": {},
   "outputs": [],
   "source": [
    "# your code here"
   ]
  },
  {
   "cell_type": "raw",
   "metadata": {},
   "source": [
    "Challenge C: Multiplication Table\n",
    "Description\n",
    "Your task, is to create a function which returns a NxN multiplication table, of size N provided as a function argument.\n",
    "\n",
    "for example, when given size is 3:\n",
    "\n",
    "1 2 3\n",
    "\n",
    "2 4 6\n",
    "\n",
    "3 6 9\n",
    "\n",
    "So for the given example, the return value should be: [[1,2,3],[2,4,6],[3,6,9]]"
   ]
  },
  {
   "cell_type": "code",
   "execution_count": null,
   "metadata": {},
   "outputs": [],
   "source": [
    "# your code here"
   ]
  },
  {
   "cell_type": "raw",
   "metadata": {},
   "source": [
    "Challenge D: ID Assignment\n",
    "Description\n",
    "a) You work in a company with 100 people - to start, please create a list of people ranging from Person 1 to Person 100. For company purposes, each of these people is identified with a Personal ID, which is a combination of 2 uppercase letters and a random number of 5 digits. For each person, generate a random ID, and store it in a dictionary alongside their name (for example ('Person 5': 'AB73648')). Then sort the dictionary according to the values of their Personal IDs.\n",
    "\n",
    "b) One month later, your company changes the ID format for every employee - from now on, every person will have an ID that consists of only letters. In order to convert them, every number in the employee ID should be replaced by the corresponding uppercase letter in the alphabeth. Please write a function that accomplishes this change and apply it to the dictionary."
   ]
  },
  {
   "cell_type": "code",
   "execution_count": 123,
   "metadata": {},
   "outputs": [],
   "source": [
    "import random\n",
    "import string\n",
    "# Creation liste des employées\n",
    "employees = [f'Person {i+1}' for i in range(100)] \n",
    "\n",
    "#Fonction pour créer des IDs\n",
    "def ids():\n",
    "    return ''.join([random.choice(string.ascii_uppercase) for i in range(2)] + [random.choice(string.digits) for i in range(5)])\n",
    "\n",
    "#Dictionnaire des personnes et des IDs\n",
    "employees_Id = {employees[i]:ids() for i in range(100)}\n",
    "\n",
    "#Classement par Ids\n",
    "employees_Id_sorted = {k: v for k, v in sorted(employees_Id.items(), key=lambda item: item[1])}"
   ]
  },
  {
   "cell_type": "code",
   "execution_count": 124,
   "metadata": {},
   "outputs": [
    {
     "name": "stdout",
     "output_type": "stream",
     "text": [
      "{'Person 8': 'AB82123', 'Person 96': 'AC84645', 'Person 73': 'AH86666', 'Person 89': 'AJ42862', 'Person 13': 'AS42535', 'Person 93': 'AW22216', 'Person 78': 'AW82196', 'Person 55': 'AX15056', 'Person 41': 'AY53057', 'Person 19': 'BE12984', 'Person 68': 'BF23521', 'Person 20': 'BI84650', 'Person 80': 'CP82390', 'Person 45': 'CS00694', 'Person 25': 'CZ05166', 'Person 23': 'DV02941', 'Person 84': 'EG03110', 'Person 91': 'EO73953', 'Person 100': 'GU41702', 'Person 1': 'HJ81255', 'Person 24': 'HO06231', 'Person 82': 'HO76354', 'Person 31': 'HP31303', 'Person 22': 'HX23761', 'Person 66': 'HX61459', 'Person 56': 'HX71226', 'Person 3': 'IC54728', 'Person 70': 'IE29360', 'Person 75': 'IJ96842', 'Person 17': 'IR15955', 'Person 39': 'JI01379', 'Person 51': 'KF26249', 'Person 98': 'KI10022', 'Person 76': 'KN24791', 'Person 81': 'KO44361', 'Person 97': 'KP17769', 'Person 64': 'KW89097', 'Person 53': 'LC18963', 'Person 28': 'LS74698', 'Person 67': 'MA43178', 'Person 77': 'MO69059', 'Person 88': 'NE53823', 'Person 87': 'NL09252', 'Person 2': 'NP51851', 'Person 58': 'NR11851', 'Person 59': 'NV57841', 'Person 57': 'NZ08846', 'Person 7': 'OD47216', 'Person 99': 'OE59745', 'Person 85': 'OU44599', 'Person 26': 'OY60108', 'Person 43': 'PD57208', 'Person 74': 'PG85568', 'Person 6': 'PM57194', 'Person 69': 'PW93561', 'Person 29': 'PY49120', 'Person 48': 'PY61073', 'Person 65': 'QH12534', 'Person 27': 'QI64068', 'Person 72': 'QJ35043', 'Person 79': 'QJ49772', 'Person 14': 'QJ92665', 'Person 11': 'QL37626', 'Person 5': 'QM76815', 'Person 42': 'QO84172', 'Person 10': 'QR76249', 'Person 50': 'QS23160', 'Person 33': 'QY47380', 'Person 62': 'RC92411', 'Person 63': 'RI70595', 'Person 21': 'RM71692', 'Person 83': 'RP12356', 'Person 30': 'SP14978', 'Person 40': 'TH57621', 'Person 18': 'TR87996', 'Person 16': 'TV87491', 'Person 71': 'TZ71522', 'Person 38': 'UE27626', 'Person 49': 'UI53811', 'Person 32': 'UU02168', 'Person 4': 'UY04234', 'Person 37': 'VI41376', 'Person 61': 'VJ83386', 'Person 94': 'VT02961', 'Person 95': 'VU06438', 'Person 60': 'VW37633', 'Person 90': 'VX30544', 'Person 52': 'WJ98230', 'Person 44': 'WK24362', 'Person 35': 'WL06419', 'Person 15': 'WP67702', 'Person 12': 'XC88693', 'Person 47': 'XH03661', 'Person 46': 'XJ43066', 'Person 92': 'XP76137', 'Person 34': 'YT99865', 'Person 9': 'ZN81179', 'Person 36': 'ZP00361', 'Person 86': 'ZS36590', 'Person 54': 'ZZ06509'}\n"
     ]
    }
   ],
   "source": [
    "print(employees_Id_sorted)"
   ]
  },
  {
   "cell_type": "code",
   "execution_count": 125,
   "metadata": {},
   "outputs": [],
   "source": [
    "# Création d'un dictionnaire pour faire correspondre des digits avec les lettres capitales de l'alphabet\n",
    "\n",
    "corresp = {0:'A',1:'B',2:'C',3:'D', 4:'E',5:'F',6:'G', 7:'H',8:'I',9: 'J'}    #corresp[5]"
   ]
  },
  {
   "cell_type": "code",
   "execution_count": 126,
   "metadata": {},
   "outputs": [
    {
     "name": "stdout",
     "output_type": "stream",
     "text": [
      "{'Person 1': 'HJIBCFF', 'Person 2': 'NPFBIFB', 'Person 3': 'ICFEHCI', 'Person 4': 'UYAECDE', 'Person 5': 'QMHGIBF', 'Person 6': 'PMFHBJE', 'Person 7': 'ODEHCBG', 'Person 8': 'ABICBCD', 'Person 9': 'ZNIBBHJ', 'Person 10': 'QRHGCEJ', 'Person 11': 'QLDHGCG', 'Person 12': 'XCIIGJD', 'Person 13': 'ASECFDF', 'Person 14': 'QJJCGGF', 'Person 15': 'WPGHHAC', 'Person 16': 'TVIHEJB', 'Person 17': 'IRBFJFF', 'Person 18': 'TRIHJJG', 'Person 19': 'BEBCJIE', 'Person 20': 'BIIEGFA', 'Person 21': 'RMHBGJC', 'Person 22': 'HXCDHGB', 'Person 23': 'DVACJEB', 'Person 24': 'HOAGCDB', 'Person 25': 'CZAFBGG', 'Person 26': 'OYGABAI', 'Person 27': 'QIGEAGI', 'Person 28': 'LSHEGJI', 'Person 29': 'PYEJBCA', 'Person 30': 'SPBEJHI', 'Person 31': 'HPDBDAD', 'Person 32': 'UUACBGI', 'Person 33': 'QYEHDIA', 'Person 34': 'YTJJIGF', 'Person 35': 'WLAGEBJ', 'Person 36': 'ZPAADGB', 'Person 37': 'VIEBDHG', 'Person 38': 'UECHGCG', 'Person 39': 'JIABDHJ', 'Person 40': 'THFHGCB', 'Person 41': 'AYFDAFH', 'Person 42': 'QOIEBHC', 'Person 43': 'PDFHCAI', 'Person 44': 'WKCEDGC', 'Person 45': 'CSAAGJE', 'Person 46': 'XJEDAGG', 'Person 47': 'XHADGGB', 'Person 48': 'PYGBAHD', 'Person 49': 'UIFDIBB', 'Person 50': 'QSCDBGA', 'Person 51': 'KFCGCEJ', 'Person 52': 'WJJICDA', 'Person 53': 'LCBIJGD', 'Person 54': 'ZZAGFAJ', 'Person 55': 'AXBFAFG', 'Person 56': 'HXHBCCG', 'Person 57': 'NZAIIEG', 'Person 58': 'NRBBIFB', 'Person 59': 'NVFHIEB', 'Person 60': 'VWDHGDD', 'Person 61': 'VJIDDIG', 'Person 62': 'RCJCEBB', 'Person 63': 'RIHAFJF', 'Person 64': 'KWIJAJH', 'Person 65': 'QHBCFDE', 'Person 66': 'HXGBEFJ', 'Person 67': 'MAEDBHI', 'Person 68': 'BFCDFCB', 'Person 69': 'PWJDFGB', 'Person 70': 'IECJDGA', 'Person 71': 'TZHBFCC', 'Person 72': 'QJDFAED', 'Person 73': 'AHIGGGG', 'Person 74': 'PGIFFGI', 'Person 75': 'IJJGIEC', 'Person 76': 'KNCEHJB', 'Person 77': 'MOGJAFJ', 'Person 78': 'AWICBJG', 'Person 79': 'QJEJHHC', 'Person 80': 'CPICDJA', 'Person 81': 'KOEEDGB', 'Person 82': 'HOHGDFE', 'Person 83': 'RPBCDFG', 'Person 84': 'EGADBBA', 'Person 85': 'OUEEFJJ', 'Person 86': 'ZSDGFJA', 'Person 87': 'NLAJCFC', 'Person 88': 'NEFDICD', 'Person 89': 'AJECIGC', 'Person 90': 'VXDAFEE', 'Person 91': 'EOHDJFD', 'Person 92': 'XPHGBDH', 'Person 93': 'AWCCCBG', 'Person 94': 'VTACJGB', 'Person 95': 'VUAGEDI', 'Person 96': 'ACIEGEF', 'Person 97': 'KPBHHGJ', 'Person 98': 'KIBAACC', 'Person 99': 'OEFJHEF', 'Person 100': 'GUEBHAC'}\n"
     ]
    }
   ],
   "source": [
    "new_employees_Id = {}\n",
    "for name,ids in employees_Id.items():\n",
    "    new_id = []\n",
    "    for i in list(ids):\n",
    "        if i.isnumeric():  \n",
    "            i = corresp[int(i)]\n",
    "        new_id.append(i)\n",
    "    new_employees_Id[name] = \"\".join(new_id)\n",
    "print(new_employees_Id)"
   ]
  },
  {
   "cell_type": "code",
   "execution_count": 127,
   "metadata": {},
   "outputs": [],
   "source": [
    "#Optimisation de la boucle for par une compréhension de liste\n",
    "#i : correspond à la valeur dans le dict employee_id, càd l'identifiant,.\n",
    "#ids = la liste des valeurs de dict employee_id.\n",
    "#corresp[int(i)] : c'est trouver la valeur correspondante au chiffre i dans le dictionnaire corresp\n",
    "\n",
    "def convert_num_to_char(ids):\n",
    "    return \"\".join([corresp[int(i)] if i.isnumeric() else i for i in ids])"
   ]
  },
  {
   "cell_type": "code",
   "execution_count": 128,
   "metadata": {},
   "outputs": [
    {
     "name": "stdout",
     "output_type": "stream",
     "text": [
      "{'Person 1': 'HJIBCFF', 'Person 2': 'NPFBIFB', 'Person 3': 'ICFEHCI', 'Person 4': 'UYAECDE', 'Person 5': 'QMHGIBF', 'Person 6': 'PMFHBJE', 'Person 7': 'ODEHCBG', 'Person 8': 'ABICBCD', 'Person 9': 'ZNIBBHJ', 'Person 10': 'QRHGCEJ', 'Person 11': 'QLDHGCG', 'Person 12': 'XCIIGJD', 'Person 13': 'ASECFDF', 'Person 14': 'QJJCGGF', 'Person 15': 'WPGHHAC', 'Person 16': 'TVIHEJB', 'Person 17': 'IRBFJFF', 'Person 18': 'TRIHJJG', 'Person 19': 'BEBCJIE', 'Person 20': 'BIIEGFA', 'Person 21': 'RMHBGJC', 'Person 22': 'HXCDHGB', 'Person 23': 'DVACJEB', 'Person 24': 'HOAGCDB', 'Person 25': 'CZAFBGG', 'Person 26': 'OYGABAI', 'Person 27': 'QIGEAGI', 'Person 28': 'LSHEGJI', 'Person 29': 'PYEJBCA', 'Person 30': 'SPBEJHI', 'Person 31': 'HPDBDAD', 'Person 32': 'UUACBGI', 'Person 33': 'QYEHDIA', 'Person 34': 'YTJJIGF', 'Person 35': 'WLAGEBJ', 'Person 36': 'ZPAADGB', 'Person 37': 'VIEBDHG', 'Person 38': 'UECHGCG', 'Person 39': 'JIABDHJ', 'Person 40': 'THFHGCB', 'Person 41': 'AYFDAFH', 'Person 42': 'QOIEBHC', 'Person 43': 'PDFHCAI', 'Person 44': 'WKCEDGC', 'Person 45': 'CSAAGJE', 'Person 46': 'XJEDAGG', 'Person 47': 'XHADGGB', 'Person 48': 'PYGBAHD', 'Person 49': 'UIFDIBB', 'Person 50': 'QSCDBGA', 'Person 51': 'KFCGCEJ', 'Person 52': 'WJJICDA', 'Person 53': 'LCBIJGD', 'Person 54': 'ZZAGFAJ', 'Person 55': 'AXBFAFG', 'Person 56': 'HXHBCCG', 'Person 57': 'NZAIIEG', 'Person 58': 'NRBBIFB', 'Person 59': 'NVFHIEB', 'Person 60': 'VWDHGDD', 'Person 61': 'VJIDDIG', 'Person 62': 'RCJCEBB', 'Person 63': 'RIHAFJF', 'Person 64': 'KWIJAJH', 'Person 65': 'QHBCFDE', 'Person 66': 'HXGBEFJ', 'Person 67': 'MAEDBHI', 'Person 68': 'BFCDFCB', 'Person 69': 'PWJDFGB', 'Person 70': 'IECJDGA', 'Person 71': 'TZHBFCC', 'Person 72': 'QJDFAED', 'Person 73': 'AHIGGGG', 'Person 74': 'PGIFFGI', 'Person 75': 'IJJGIEC', 'Person 76': 'KNCEHJB', 'Person 77': 'MOGJAFJ', 'Person 78': 'AWICBJG', 'Person 79': 'QJEJHHC', 'Person 80': 'CPICDJA', 'Person 81': 'KOEEDGB', 'Person 82': 'HOHGDFE', 'Person 83': 'RPBCDFG', 'Person 84': 'EGADBBA', 'Person 85': 'OUEEFJJ', 'Person 86': 'ZSDGFJA', 'Person 87': 'NLAJCFC', 'Person 88': 'NEFDICD', 'Person 89': 'AJECIGC', 'Person 90': 'VXDAFEE', 'Person 91': 'EOHDJFD', 'Person 92': 'XPHGBDH', 'Person 93': 'AWCCCBG', 'Person 94': 'VTACJGB', 'Person 95': 'VUAGEDI', 'Person 96': 'ACIEGEF', 'Person 97': 'KPBHHGJ', 'Person 98': 'KIBAACC', 'Person 99': 'OEFJHEF', 'Person 100': 'GUEBHAC'}\n"
     ]
    }
   ],
   "source": [
    "new_employees_id = {name: convert_num_to_char(ids) for name, ids in employees_Id.items()}\n",
    "\n",
    "print(new_employees_id)"
   ]
  },
  {
   "cell_type": "code",
   "execution_count": 129,
   "metadata": {},
   "outputs": [],
   "source": [
    "#Nouvelle façon de définir un identifiant ids avec que des lettres capitales\n",
    "\n",
    "def new_ids():\n",
    "    return ''.join([random.choice(string.ascii_uppercase) for i in range(7)])"
   ]
  },
  {
   "cell_type": "code",
   "execution_count": 130,
   "metadata": {},
   "outputs": [
    {
     "name": "stdout",
     "output_type": "stream",
     "text": [
      "{'Person 1': 'HJIBCFF', 'Person 2': 'NPFBIFB', 'Person 3': 'ICFEHCI', 'Person 4': 'UYAECDE', 'Person 5': 'QMHGIBF', 'Person 6': 'PMFHBJE', 'Person 7': 'ODEHCBG', 'Person 8': 'ABICBCD', 'Person 9': 'ZNIBBHJ', 'Person 10': 'QRHGCEJ', 'Person 11': 'QLDHGCG', 'Person 12': 'XCIIGJD', 'Person 13': 'ASECFDF', 'Person 14': 'QJJCGGF', 'Person 15': 'WPGHHAC', 'Person 16': 'TVIHEJB', 'Person 17': 'IRBFJFF', 'Person 18': 'TRIHJJG', 'Person 19': 'BEBCJIE', 'Person 20': 'BIIEGFA', 'Person 21': 'RMHBGJC', 'Person 22': 'HXCDHGB', 'Person 23': 'DVACJEB', 'Person 24': 'HOAGCDB', 'Person 25': 'CZAFBGG', 'Person 26': 'OYGABAI', 'Person 27': 'QIGEAGI', 'Person 28': 'LSHEGJI', 'Person 29': 'PYEJBCA', 'Person 30': 'SPBEJHI', 'Person 31': 'HPDBDAD', 'Person 32': 'UUACBGI', 'Person 33': 'QYEHDIA', 'Person 34': 'YTJJIGF', 'Person 35': 'WLAGEBJ', 'Person 36': 'ZPAADGB', 'Person 37': 'VIEBDHG', 'Person 38': 'UECHGCG', 'Person 39': 'JIABDHJ', 'Person 40': 'THFHGCB', 'Person 41': 'AYFDAFH', 'Person 42': 'QOIEBHC', 'Person 43': 'PDFHCAI', 'Person 44': 'WKCEDGC', 'Person 45': 'CSAAGJE', 'Person 46': 'XJEDAGG', 'Person 47': 'XHADGGB', 'Person 48': 'PYGBAHD', 'Person 49': 'UIFDIBB', 'Person 50': 'QSCDBGA', 'Person 51': 'KFCGCEJ', 'Person 52': 'WJJICDA', 'Person 53': 'LCBIJGD', 'Person 54': 'ZZAGFAJ', 'Person 55': 'AXBFAFG', 'Person 56': 'HXHBCCG', 'Person 57': 'NZAIIEG', 'Person 58': 'NRBBIFB', 'Person 59': 'NVFHIEB', 'Person 60': 'VWDHGDD', 'Person 61': 'VJIDDIG', 'Person 62': 'RCJCEBB', 'Person 63': 'RIHAFJF', 'Person 64': 'KWIJAJH', 'Person 65': 'QHBCFDE', 'Person 66': 'HXGBEFJ', 'Person 67': 'MAEDBHI', 'Person 68': 'BFCDFCB', 'Person 69': 'PWJDFGB', 'Person 70': 'IECJDGA', 'Person 71': 'TZHBFCC', 'Person 72': 'QJDFAED', 'Person 73': 'AHIGGGG', 'Person 74': 'PGIFFGI', 'Person 75': 'IJJGIEC', 'Person 76': 'KNCEHJB', 'Person 77': 'MOGJAFJ', 'Person 78': 'AWICBJG', 'Person 79': 'QJEJHHC', 'Person 80': 'CPICDJA', 'Person 81': 'KOEEDGB', 'Person 82': 'HOHGDFE', 'Person 83': 'RPBCDFG', 'Person 84': 'EGADBBA', 'Person 85': 'OUEEFJJ', 'Person 86': 'ZSDGFJA', 'Person 87': 'NLAJCFC', 'Person 88': 'NEFDICD', 'Person 89': 'AJECIGC', 'Person 90': 'VXDAFEE', 'Person 91': 'EOHDJFD', 'Person 92': 'XPHGBDH', 'Person 93': 'AWCCCBG', 'Person 94': 'VTACJGB', 'Person 95': 'VUAGEDI', 'Person 96': 'ACIEGEF', 'Person 97': 'KPBHHGJ', 'Person 98': 'KIBAACC', 'Person 99': 'OEFJHEF', 'Person 100': 'GUEBHAC', 'Person 101': 'NEJFKUS'}\n"
     ]
    }
   ],
   "source": [
    "#Ajouter le dict 2 au dictionnaire initial new_employee_id\n",
    "\n",
    "dict2 = {k: new_ids() for k in [f'Person {100+i}' for i in range(1,2)]}\n",
    "\n",
    "new_employees_id.update(dict2)\n",
    "print(new_employees_id)"
   ]
  },
  {
   "cell_type": "code",
   "execution_count": 131,
   "metadata": {},
   "outputs": [
    {
     "name": "stdin",
     "output_type": "stream",
     "text": [
      "How ? 2\n"
     ]
    },
    {
     "name": "stdout",
     "output_type": "stream",
     "text": [
      "{'Person 1': 'HJIBCFF', 'Person 2': 'NPFBIFB', 'Person 3': 'ICFEHCI', 'Person 4': 'UYAECDE', 'Person 5': 'QMHGIBF', 'Person 6': 'PMFHBJE', 'Person 7': 'ODEHCBG', 'Person 8': 'ABICBCD', 'Person 9': 'ZNIBBHJ', 'Person 10': 'QRHGCEJ', 'Person 11': 'QLDHGCG', 'Person 12': 'XCIIGJD', 'Person 13': 'ASECFDF', 'Person 14': 'QJJCGGF', 'Person 15': 'WPGHHAC', 'Person 16': 'TVIHEJB', 'Person 17': 'IRBFJFF', 'Person 18': 'TRIHJJG', 'Person 19': 'BEBCJIE', 'Person 20': 'BIIEGFA', 'Person 21': 'RMHBGJC', 'Person 22': 'HXCDHGB', 'Person 23': 'DVACJEB', 'Person 24': 'HOAGCDB', 'Person 25': 'CZAFBGG', 'Person 26': 'OYGABAI', 'Person 27': 'QIGEAGI', 'Person 28': 'LSHEGJI', 'Person 29': 'PYEJBCA', 'Person 30': 'SPBEJHI', 'Person 31': 'HPDBDAD', 'Person 32': 'UUACBGI', 'Person 33': 'QYEHDIA', 'Person 34': 'YTJJIGF', 'Person 35': 'WLAGEBJ', 'Person 36': 'ZPAADGB', 'Person 37': 'VIEBDHG', 'Person 38': 'UECHGCG', 'Person 39': 'JIABDHJ', 'Person 40': 'THFHGCB', 'Person 41': 'AYFDAFH', 'Person 42': 'QOIEBHC', 'Person 43': 'PDFHCAI', 'Person 44': 'WKCEDGC', 'Person 45': 'CSAAGJE', 'Person 46': 'XJEDAGG', 'Person 47': 'XHADGGB', 'Person 48': 'PYGBAHD', 'Person 49': 'UIFDIBB', 'Person 50': 'QSCDBGA', 'Person 51': 'KFCGCEJ', 'Person 52': 'WJJICDA', 'Person 53': 'LCBIJGD', 'Person 54': 'ZZAGFAJ', 'Person 55': 'AXBFAFG', 'Person 56': 'HXHBCCG', 'Person 57': 'NZAIIEG', 'Person 58': 'NRBBIFB', 'Person 59': 'NVFHIEB', 'Person 60': 'VWDHGDD', 'Person 61': 'VJIDDIG', 'Person 62': 'RCJCEBB', 'Person 63': 'RIHAFJF', 'Person 64': 'KWIJAJH', 'Person 65': 'QHBCFDE', 'Person 66': 'HXGBEFJ', 'Person 67': 'MAEDBHI', 'Person 68': 'BFCDFCB', 'Person 69': 'PWJDFGB', 'Person 70': 'IECJDGA', 'Person 71': 'TZHBFCC', 'Person 72': 'QJDFAED', 'Person 73': 'AHIGGGG', 'Person 74': 'PGIFFGI', 'Person 75': 'IJJGIEC', 'Person 76': 'KNCEHJB', 'Person 77': 'MOGJAFJ', 'Person 78': 'AWICBJG', 'Person 79': 'QJEJHHC', 'Person 80': 'CPICDJA', 'Person 81': 'KOEEDGB', 'Person 82': 'HOHGDFE', 'Person 83': 'RPBCDFG', 'Person 84': 'EGADBBA', 'Person 85': 'OUEEFJJ', 'Person 86': 'ZSDGFJA', 'Person 87': 'NLAJCFC', 'Person 88': 'NEFDICD', 'Person 89': 'AJECIGC', 'Person 90': 'VXDAFEE', 'Person 91': 'EOHDJFD', 'Person 92': 'XPHGBDH', 'Person 93': 'AWCCCBG', 'Person 94': 'VTACJGB', 'Person 95': 'VUAGEDI', 'Person 96': 'ACIEGEF', 'Person 97': 'KPBHHGJ', 'Person 98': 'KIBAACC', 'Person 99': 'OEFJHEF', 'Person 100': 'GUEBHAC', 'Person 101': 'NEJFKUS', 'Person 102': 'VVEXDIQ'}\n"
     ]
    }
   ],
   "source": [
    "#Fonction qui demande combien on veut ajouter d'employés\n",
    "\n",
    "def add_employee(number):\n",
    "    for i in range(number):    #i étant le nombre d'élément.s ajouté.s au dictionnaire\n",
    "        new_employees_id[f'Person {len(new_employees_id.keys())+1}'] = ''.join([random.choice(string.ascii_uppercase) for i in range(7)])\n",
    "        #ajout d'une clé+1 en fonction du nombre de clés précédente = valeur est l'identifiant créé ainsi\n",
    "        return new_employees_id\n",
    "    \n",
    "ask_number = int(input(\"How ?\"))\n",
    "\n",
    "print(add_employee(ask_number))"
   ]
  },
  {
   "cell_type": "code",
   "execution_count": null,
   "metadata": {},
   "outputs": [],
   "source": []
  }
 ],
 "metadata": {
  "kernelspec": {
   "display_name": "Python 3",
   "language": "python",
   "name": "python3"
  },
  "language_info": {
   "codemirror_mode": {
    "name": "ipython",
    "version": 3
   },
   "file_extension": ".py",
   "mimetype": "text/x-python",
   "name": "python",
   "nbconvert_exporter": "python",
   "pygments_lexer": "ipython3",
   "version": "3.8.5"
  }
 },
 "nbformat": 4,
 "nbformat_minor": 4
}
