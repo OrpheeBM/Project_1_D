{
 "cells": [
  {
   "cell_type": "markdown",
   "metadata": {},
   "source": [
    "## Challenge A: Password Validator\n",
    "\n",
    "Description\n",
    "Your job is to create a simple password validation function, as seen on many websites.\n",
    "\n",
    "The rules for a valid password are as follows:\n",
    "\n",
    "There needs to be at least 1 uppercase letter. There needs to be at least 1 lowercase letter. There needs to be at least 1 number. The password needs to be at least 8 characters long.\n",
    "\n",
    "You are permitted to use any methods to validate the password."
   ]
  },
  {
   "cell_type": "code",
   "execution_count": null,
   "metadata": {},
   "outputs": [],
   "source": [
    "# your code here"
   ]
  },
  {
   "cell_type": "markdown",
   "metadata": {},
   "source": [
    "## Challenge B: Credit Card Validator\n",
    "\n",
    "Description\n",
    "Your task is to write a program which reads credit card number prints the validation result ‘Valid’ or ‘Invalid’.\n",
    "\n",
    "A valid credit card has following features:\n",
    "\n",
    "It should start with 4, 5 or 6\n",
    "It should have exactly 16 digits\n",
    "It should only consist of digits (0-9)\n",
    "It may have digits in groups of 4 and separated by one hyphen \"-\"\n",
    "It should NOT use any other separator like ‘ ’,‘_’, etc.\n",
    "It should NOT have 4 or more consecutive repeated digits\n",
    "Valid Credit Card Numbers:\n",
    "\n",
    "4263525778615786\n",
    "5535535535559555\n",
    "6344-2389-7542-9163\n",
    "Invalid Credit Card Numbers:\n",
    "\n",
    "42536258796157867\n",
    "66266666626662666\n",
    "5122-2368-7954 -3214\n",
    "44244x4424442444\n",
    "0525362587961578"
   ]
  },
  {
   "cell_type": "code",
   "execution_count": null,
   "metadata": {},
   "outputs": [],
   "source": [
    "# your code here"
   ]
  },
  {
   "cell_type": "markdown",
   "metadata": {},
   "source": [
    "## Challenge C: Multiplication Table\n",
    "Description\n",
    "Your task, is to create a function which returns a NxN multiplication table, of size N provided as a function argument.\n",
    "\n",
    "for example, when given size is 3:\n",
    "\n",
    "1 2 3\n",
    "\n",
    "2 4 6\n",
    "\n",
    "3 6 9\n",
    "\n",
    "So for the given example, the return value should be: [[1,2,3],[2,4,6],[3,6,9]]"
   ]
  },
  {
   "cell_type": "code",
   "execution_count": 9,
   "metadata": {},
   "outputs": [
    {
     "name": "stdout",
     "output_type": "stream",
     "text": [
      "Give me a number:5\n",
      "[[1, 2, 3, 4, 5], [2, 4, 6, 8, 10], [3, 6, 9, 12, 15], [4, 8, 12, 16, 20], [5, 10, 15, 20, 25]]\n"
     ]
    }
   ],
   "source": [
    "# your code here\n",
    "def multiplication_table(n):\n",
    "    if n > 0:\n",
    "        return [[a*i for a in range(1, n+1)] for i in range(1, n+1)]\n",
    "    elif n == 0:\n",
    "        return [0]\n",
    "    else:\n",
    "        return [[-a*i for a in range(1, -n+1)] for i in range(1, -n+1)]\n",
    "\n",
    "number = input('Give me a number:')\n",
    "try:\n",
    "    print(multiplication_table(int(number)))\n",
    "except ValueError:\n",
    "    print('You have to give a number. Try again.')"
   ]
  },
  {
   "cell_type": "code",
   "execution_count": 10,
   "metadata": {},
   "outputs": [
    {
     "name": "stdout",
     "output_type": "stream",
     "text": [
      "[1]\n",
      "[1, 1]\n",
      "[1, 2, 1]\n",
      "[1, 3, 3, 1]\n"
     ]
    }
   ],
   "source": [
    "def pascal_triangle(n):\n",
    "    #Liste imbriquée avec des 0\n",
    "    T = [[0] * (n+1) for n in range(n+1)]\n",
    "    for n in range(n+1):\n",
    "    # Si le nombre donné est 0 alors la liste ne contient que 1\n",
    "        if n == 0:\n",
    "            T[n][0] = 1\n",
    "        else:\n",
    "            for p in range(n+1):\n",
    "            # le premier chiffre de chaque liste est égale à 1\n",
    "                if p == 0:\n",
    "                    T[n][p] = 1\n",
    "            # le dernier chiffre de chaque liste est égale à 1\n",
    "                elif p == n:\n",
    "                    T[n][p] = 1\n",
    "            # Calcul de T[n][p] qui est égal au chifre en diagonal à gauche et au-dessus\n",
    "                else:\n",
    "                    T[n][p] = T[n-1][p-1] + T[n-1][p]\n",
    "    for n in range(n+1):\n",
    "    #Affichage des listes à la suite pour créer un triangle\n",
    "        print(T[n])\n",
    "\n",
    "\n",
    "pascal_triangle(3)"
   ]
  },
  {
   "cell_type": "code",
   "execution_count": null,
   "metadata": {},
   "outputs": [
    {
     "name": "stdout",
     "output_type": "stream",
     "text": [
      "[1]\n"
     ]
    }
   ],
   "source": [
    "#je creer une liste contenant ma premiere ligne\n",
    "ancienneliste = [1]\n",
    "\n",
    "#je demande a l'utilisateur de me donner le nombre de ligne\n",
    "n=int(input('Combien de ligne souhaitez-vous afficher ?'))\n",
    "#une boucle pour obtenir n ligne qui correspond au nombre choisis\n",
    "for j in range(n):\n",
    "    nouvelleliste = ancienneliste + [1] #à chaque fois je creer une nouvelle liste avec ma liste precedente et je rajoute 1\n",
    "    for i in range(0,len(ancienneliste)-1): #pour qu'il s'arrete un cran avant\n",
    "        #pour avoir un element de la nouvelle liste je prend un element\\\n",
    "        #de l'ancienne liste auquel je rajoute l'element suivant de la liste\n",
    "        nouvelleliste[i+1] = ancienneliste[i] + ancienneliste[i+1]\n",
    "    print(nouvelleliste)\n",
    "    #pour que le programme se poursuive \n",
    "    ancienneliste=nouvelleliste\n",
    "print(nouvelleliste)"
   ]
  },
  {
   "cell_type": "markdown",
   "metadata": {},
   "source": [
    "## Challenge D: ID Assignment\n",
    "Description\n",
    "a) You work in a company with 100 people - to start, please create a list of people ranging from Person 1 to Person 100. For company purposes, each of these people is identified with a Personal ID, which is a combination of 2 uppercase letters and a random number of 5 digits. For each person, generate a random ID, and store it in a dictionary alongside their name (for example ('Person 5': 'AB73648')). Then sort the dictionary according to the values of their Personal IDs.\n",
    "\n",
    "b) One month later, your company changes the ID format for every employee - from now on, every person will have an ID that consists of only letters. In order to convert them, every number in the employee ID should be replaced by the corresponding uppercase letter in the alphabeth. Please write a function that accomplishes this change and apply it to the dictionary."
   ]
  },
  {
   "cell_type": "code",
   "execution_count": 36,
   "metadata": {},
   "outputs": [
    {
     "name": "stdout",
     "output_type": "stream",
     "text": [
      "{'Person 20': 'AK90102', 'Person 13': 'AK96880', 'Person 95': 'AP38028', 'Person 34': 'AT88227', 'Person 4': 'BM06557', 'Person 85': 'BV54516', 'Person 47': 'BX81616', 'Person 62': 'CO05662', 'Person 25': 'CS46996', 'Person 9': 'CW09967', 'Person 44': 'DA50528', 'Person 84': 'DA71100', 'Person 55': 'DI48283', 'Person 76': 'DI63703', 'Person 69': 'DU58530', 'Person 2': 'DZ50790', 'Person 1': 'DZ95498', 'Person 94': 'EC22584', 'Person 39': 'EC75021', 'Person 53': 'EJ47150', 'Person 90': 'ER75158', 'Person 87': 'FB53958', 'Person 100': 'FL98952', 'Person 38': 'GE42307', 'Person 29': 'GH15280', 'Person 83': 'HO86012', 'Person 16': 'HS41175', 'Person 81': 'JE42220', 'Person 61': 'JF42876', 'Person 73': 'JM05397', 'Person 31': 'KD50685', 'Person 63': 'KH79810', 'Person 10': 'KM52479', 'Person 19': 'KM79159', 'Person 35': 'KT39562', 'Person 50': 'KW48194', 'Person 14': 'LG48071', 'Person 36': 'LG61851', 'Person 18': 'LP98887', 'Person 97': 'LR34751', 'Person 42': 'LT71601', 'Person 60': 'LU02161', 'Person 6': 'LV04273', 'Person 33': 'LW01936', 'Person 23': 'LY17323', 'Person 99': 'LZ26439', 'Person 49': 'LZ52923', 'Person 78': 'MI72949', 'Person 64': 'NF08384', 'Person 52': 'NR07060', 'Person 41': 'NY36120', 'Person 7': 'NY71133', 'Person 88': 'OL54286', 'Person 46': 'OR36230', 'Person 65': 'PH93757', 'Person 48': 'PN11661', 'Person 98': 'PU14541', 'Person 72': 'QC99528', 'Person 22': 'QK30774', 'Person 86': 'QR70597', 'Person 8': 'QT98208', 'Person 92': 'QY86514', 'Person 77': 'RF82338', 'Person 51': 'RG79814', 'Person 12': 'SA72131', 'Person 27': 'SF03021', 'Person 89': 'SF34860', 'Person 93': 'SF41629', 'Person 17': 'SG02579', 'Person 74': 'SK70142', 'Person 56': 'TD79694', 'Person 91': 'TH85390', 'Person 58': 'TH89495', 'Person 82': 'TI61005', 'Person 21': 'TK53046', 'Person 15': 'TO24619', 'Person 59': 'TO69642', 'Person 75': 'TO88074', 'Person 37': 'TP39553', 'Person 11': 'UN33983', 'Person 30': 'VO81477', 'Person 70': 'VU41686', 'Person 80': 'WE61635', 'Person 68': 'WF94183', 'Person 43': 'WI37805', 'Person 26': 'WI39729', 'Person 67': 'WK27846', 'Person 24': 'WW77410', 'Person 66': 'WY57846', 'Person 57': 'XA69182', 'Person 45': 'XE13764', 'Person 71': 'XF60131', 'Person 54': 'XZ30112', 'Person 79': 'YE76895', 'Person 5': 'YG48724', 'Person 96': 'YK53456', 'Person 3': 'ZA85608', 'Person 28': 'ZJ86962', 'Person 40': 'ZP40352', 'Person 32': 'ZR81514'}\n"
     ]
    }
   ],
   "source": [
    "import random\n",
    "import string\n",
    "\n",
    "# Creation liste des employées\n",
    "employees = [f'Person {i+1}' for i in range(100)] \n",
    "\n",
    "#Fonction pour créer des IDs\n",
    "def ids():\n",
    "    return ''.join([random.choice(string.ascii_uppercase) for i in range(2)] + \n",
    "                   [random.choice(string.digits) for i in range(5)])\n",
    "\n",
    "#Dictionnaire des personnes et des IDs\n",
    "employees_Id = {employees[i]:ids() for i in range(100)}\n",
    "\n",
    "#Classement par Ids\n",
    "employees_Id_sorted = {k: v for k, v in sorted(employees_Id.items(), key=lambda item: item[1])}\n",
    "\n",
    "#eviter d'avoir des lignes qui dépassent la fenetre"
   ]
  },
  {
   "cell_type": "code",
   "execution_count": 39,
   "metadata": {},
   "outputs": [],
   "source": [
    "corresp = {0:'A',1:'B',2:'C',3:'D', 4:'E',5:'F',6:'G', 7:'H',8:'I',9: 'J'}"
   ]
  },
  {
   "cell_type": "code",
   "execution_count": 4,
   "metadata": {},
   "outputs": [
    {
     "name": "stdout",
     "output_type": "stream",
     "text": [
      "{'Person 1': 'AZFFIGG', 'Person 2': 'GUFEJHH', 'Person 3': 'DMAAJJC', 'Person 4': 'VPJIDAF', 'Person 5': 'CREJCJH', 'Person 6': 'YZIDAFH', 'Person 7': 'FCBFDDH', 'Person 8': 'LBAHHFA', 'Person 9': 'JKEFCJC', 'Person 10': 'RLGDGBB', 'Person 11': 'JUCDIDC', 'Person 12': 'CFICEGH', 'Person 13': 'YWJCCIC', 'Person 14': 'QTHCDGJ', 'Person 15': 'NXAEGEH', 'Person 16': 'UFHFEIH', 'Person 17': 'JAAJICI', 'Person 18': 'ENGIEJH', 'Person 19': 'RPCGJBG', 'Person 20': 'CSBJEDE', 'Person 21': 'YMJHAAF', 'Person 22': 'HPIJCHC', 'Person 23': 'VBDHEBD', 'Person 24': 'LUADFCB', 'Person 25': 'RYBIEAG', 'Person 26': 'HECHHED', 'Person 27': 'XMBEGGJ', 'Person 28': 'OXABGIA', 'Person 29': 'VTECGDF', 'Person 30': 'VICJIEA', 'Person 31': 'OMAIFDJ', 'Person 32': 'NPDIGHI', 'Person 33': 'KIAEBCF', 'Person 34': 'FAGFABB', 'Person 35': 'VUGAJBI', 'Person 36': 'KZDBGDE', 'Person 37': 'IAAHFAG', 'Person 38': 'KMDIAGG', 'Person 39': 'LDJDJDE', 'Person 40': 'EPFHJFG', 'Person 41': 'HLAGJCJ', 'Person 42': 'MXFECDJ', 'Person 43': 'VSCGDJA', 'Person 44': 'TTIFHJC', 'Person 45': 'VNHEJHC', 'Person 46': 'WNHEDIF', 'Person 47': 'SUCHAII', 'Person 48': 'AIIIGBB', 'Person 49': 'AIAAGDA', 'Person 50': 'QJIECHI', 'Person 51': 'NMGCFGF', 'Person 52': 'MGIBAHJ', 'Person 53': 'EHHICHH', 'Person 54': 'YACAHHE', 'Person 55': 'ZTEHIDF', 'Person 56': 'ZUEBABH', 'Person 57': 'JBFIFDJ', 'Person 58': 'JYGICJD', 'Person 59': 'HJIJFCH', 'Person 60': 'YLDBAAG', 'Person 61': 'FCGGFEI', 'Person 62': 'HSAAFAB', 'Person 63': 'DJDAGFB', 'Person 64': 'EBIDAJI', 'Person 65': 'LRDGCBF', 'Person 66': 'VTCGFIE', 'Person 67': 'NUBBCBD', 'Person 68': 'DBFDCBE', 'Person 69': 'KGHJBFI', 'Person 70': 'UGEJHCI', 'Person 71': 'NIFICDI', 'Person 72': 'LWBCDDF', 'Person 73': 'OLGIDIF', 'Person 74': 'ARAHHAG', 'Person 75': 'IGJEJDG', 'Person 76': 'HVFDDEH', 'Person 77': 'AVBGEII', 'Person 78': 'RKAIAIC', 'Person 79': 'JBFAFJH', 'Person 80': 'PEJHHIH', 'Person 81': 'GDCAAGE', 'Person 82': 'FEIDEDA', 'Person 83': 'NDFIIJC', 'Person 84': 'KHBIHBE', 'Person 85': 'SAJEEDJ', 'Person 86': 'MYFJBJD', 'Person 87': 'UUEHEAE', 'Person 88': 'UWDCJHJ', 'Person 89': 'VBHIGHH', 'Person 90': 'PWFJEAA', 'Person 91': 'TBCCDEI', 'Person 92': 'THHDDJF', 'Person 93': 'ZSFBEDC', 'Person 94': 'PFABEGC', 'Person 95': 'WVJHCJA', 'Person 96': 'JQCHBFE', 'Person 97': 'ICDFHBH', 'Person 98': 'CZABIJI', 'Person 99': 'YQGBHAB', 'Person 100': 'APEHDHF'}\n"
     ]
    }
   ],
   "source": [
    "new_employees_id = {}\n",
    "for name,ids in employees_Id.items(): \n",
    "    new_id = [] #creation nouvel ID\n",
    "    for i in list(ids):  # on decoupe les IDs\n",
    "        if i.isnumeric():  \n",
    "            i = corresp[int(i)] \n",
    "        new_id.append(i) #\n",
    "    new_employees_Id[name] = \"\".join(new_id)\n",
    "print(new_employees_Id)\n",
    "\n",
    "#pas de majuscules sur les variables\n",
    "#espace en les \"=\"\n",
    "#random_ids =/ ids"
   ]
  },
  {
   "cell_type": "code",
   "execution_count": null,
   "metadata": {},
   "outputs": [],
   "source": [
    "#Optimisation de la boucle for par une compréhension de liste\n",
    "#i : correspond à la valeur dans le dict employee_id, càd l'identifiant,.\n",
    "#ids = la liste des valeurs de dict employee_id.\n",
    "#corresp[int(i)] : c'est trouver la valeur correspondante au chiffre i dans le dictionnaire corresp\n",
    "\n",
    "def convert_num_to_char(ids):\n",
    "    return \"\".join([corresp[int(i)] if i.isnumeric() else i for i in ids])"
   ]
  },
  {
   "cell_type": "code",
   "execution_count": null,
   "metadata": {},
   "outputs": [],
   "source": [
    "new_employees_id = {name: convert_num_to_char(ids) for name, ids in employees_Id.items()}\n",
    "\n",
    "print(new_employees_id)"
   ]
  },
  {
   "cell_type": "code",
   "execution_count": null,
   "metadata": {},
   "outputs": [],
   "source": [
    "#Nouvelle façon de définir un identifiant ids avec que des lettres capitales\n",
    "\n",
    "def new_ids():\n",
    "    return ''.join([random.choice(string.ascii_uppercase) for i in range(7)])"
   ]
  },
  {
   "cell_type": "code",
   "execution_count": null,
   "metadata": {},
   "outputs": [],
   "source": [
    "#Ajouter le dict 2 au dictionnaire initial new_employee_id\n",
    "\n",
    "dict2 = {k: new_ids() for k in [f'Person {100+i}' for i in range(1,2)]}\n",
    "\n",
    "new_employees_id.update(dict2)\n",
    "print(new_employees_id)"
   ]
  },
  {
   "cell_type": "code",
   "execution_count": null,
   "metadata": {},
   "outputs": [],
   "source": [
    "#Fonction qui demande combien on veut ajouter d'employés\n",
    "\n",
    "def add_employee(number):\n",
    "    for i in range(number):    #i étant le nombre d'élément.s ajouté.s au dictionnaire\n",
    "        new_employees_id[f'Person {len(new_employees_id.keys())+1}'] = ''.join([random.choice(string.ascii_uppercase) for i in range(7)])\n",
    "        #ajout d'une clé+1 en fonction du nombre de clés précédente = valeur est l'identifiant créé ainsi\n",
    "        return new_employees_id\n",
    "    \n",
    "ask_number = int(input(\"How ?\"))\n",
    "\n",
    "print(add_employee(ask_number))"
   ]
  }
 ],
 "metadata": {
  "kernelspec": {
   "display_name": "Python 3",
   "language": "python",
   "name": "python3"
  },
  "language_info": {
   "codemirror_mode": {
    "name": "ipython",
    "version": 3
   },
   "file_extension": ".py",
   "mimetype": "text/x-python",
   "name": "python",
   "nbconvert_exporter": "python",
   "pygments_lexer": "ipython3",
   "version": "3.9.1"
  }
 },
 "nbformat": 4,
 "nbformat_minor": 4
}
